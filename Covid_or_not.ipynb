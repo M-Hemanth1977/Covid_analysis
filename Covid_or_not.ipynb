{
  "nbformat": 4,
  "nbformat_minor": 0,
  "metadata": {
    "colab": {
      "provenance": []
    },
    "kernelspec": {
      "name": "python3",
      "display_name": "Python 3"
    },
    "language_info": {
      "name": "python"
    }
  },
  "cells": [
    {
      "cell_type": "code",
      "execution_count": 1,
      "metadata": {
        "id": "ysv2-OMe7Rgt"
      },
      "outputs": [],
      "source": [
        "import os\n",
        "import tensorflow\n",
        "from tensorflow.keras.preprocessing.image import load_img,img_to_array\n",
        "import numpy as np\n",
        "from tensorflow.keras.models import Sequential\n",
        "from tensorflow.keras.layers import Conv2D,MaxPooling2D,Flatten,Dense\n",
        "from sklearn.model_selection import train_test_split\n",
        "import pandas as pd\n",
        "from sklearn.preprocessing import LabelEncoder"
      ]
    },
    {
      "cell_type": "code",
      "source": [
        "covid_folder=r'/content/drive/MyDrive/Images/Cov'\n",
        "normal_folder=r'/content/drive/MyDrive/Images/Nor'"
      ],
      "metadata": {
        "id": "9wTyBu0Z7kQz"
      },
      "execution_count": 2,
      "outputs": []
    },
    {
      "cell_type": "markdown",
      "source": [
        "function for image preprocessing"
      ],
      "metadata": {
        "id": "3weuuH30_8qa"
      }
    },
    {
      "cell_type": "code",
      "source": [
        "def image_processing(img):\n",
        "  img=load_img(img,target_size=(256,256))\n",
        "  img=img_to_array(img)\n",
        "  img=img/255.0\n",
        "  return np.array(img)"
      ],
      "metadata": {
        "id": "3qA03NjU-DsN"
      },
      "execution_count": 37,
      "outputs": []
    },
    {
      "cell_type": "markdown",
      "source": [
        "covid images values convertion"
      ],
      "metadata": {
        "id": "syI8jkn0__Ye"
      }
    },
    {
      "cell_type": "code",
      "source": [
        "covid_img_values=[]\n",
        "normal_img_values=[]\n",
        "covid_outputs=[]\n",
        "normal_outputs=[]\n",
        "\n",
        "for i in os.listdir(covid_folder):\n",
        "  img=os.path.join(covid_folder,i)\n",
        "  img=image_processing(img)\n",
        "  covid_img_values.append(img)\n",
        "  covid_outputs.append(1)"
      ],
      "metadata": {
        "id": "j2TJmh9o9EpN"
      },
      "execution_count": 38,
      "outputs": []
    },
    {
      "cell_type": "code",
      "source": [
        "covid_img_values[0]"
      ],
      "metadata": {
        "id": "HLyJOShQ9uqE",
        "colab": {
          "base_uri": "https://localhost:8080/"
        },
        "outputId": "59416c27-bb83-41f5-d32e-6c9d9fcc0f06"
      },
      "execution_count": 53,
      "outputs": [
        {
          "output_type": "execute_result",
          "data": {
            "text/plain": [
              "array([[[0.        , 0.        , 0.        ],\n",
              "        [0.        , 0.        , 0.        ],\n",
              "        [0.        , 0.        , 0.        ],\n",
              "        ...,\n",
              "        [0.        , 0.        , 0.        ],\n",
              "        [0.        , 0.        , 0.        ],\n",
              "        [0.        , 0.        , 0.        ]],\n",
              "\n",
              "       [[0.01568628, 0.01568628, 0.01568628],\n",
              "        [0.01568628, 0.01568628, 0.01568628],\n",
              "        [0.01568628, 0.01568628, 0.01568628],\n",
              "        ...,\n",
              "        [0.00392157, 0.00392157, 0.00392157],\n",
              "        [0.00392157, 0.00392157, 0.00392157],\n",
              "        [0.00392157, 0.00392157, 0.00392157]],\n",
              "\n",
              "       [[0.23137255, 0.23137255, 0.23137255],\n",
              "        [0.23137255, 0.23137255, 0.23137255],\n",
              "        [0.23529412, 0.23529412, 0.23529412],\n",
              "        ...,\n",
              "        [0.08235294, 0.08235294, 0.08235294],\n",
              "        [0.07843138, 0.07843138, 0.07843138],\n",
              "        [0.07450981, 0.07450981, 0.07450981]],\n",
              "\n",
              "       ...,\n",
              "\n",
              "       [[0.42352942, 0.42352942, 0.42352942],\n",
              "        [0.4392157 , 0.4392157 , 0.4392157 ],\n",
              "        [0.4392157 , 0.4392157 , 0.4392157 ],\n",
              "        ...,\n",
              "        [0.2627451 , 0.2627451 , 0.2627451 ],\n",
              "        [0.24705882, 0.24705882, 0.24705882],\n",
              "        [0.21176471, 0.21176471, 0.21176471]],\n",
              "\n",
              "       [[0.03137255, 0.03137255, 0.03137255],\n",
              "        [0.03137255, 0.03137255, 0.03137255],\n",
              "        [0.03529412, 0.03529412, 0.03529412],\n",
              "        ...,\n",
              "        [0.01960784, 0.01960784, 0.01960784],\n",
              "        [0.01568628, 0.01568628, 0.01568628],\n",
              "        [0.01568628, 0.01568628, 0.01568628]],\n",
              "\n",
              "       [[0.        , 0.        , 0.        ],\n",
              "        [0.        , 0.        , 0.        ],\n",
              "        [0.        , 0.        , 0.        ],\n",
              "        ...,\n",
              "        [0.        , 0.        , 0.        ],\n",
              "        [0.        , 0.        , 0.        ],\n",
              "        [0.        , 0.        , 0.        ]]], dtype=float32)"
            ]
          },
          "metadata": {},
          "execution_count": 53
        }
      ]
    },
    {
      "cell_type": "markdown",
      "source": [
        "normal imag values convertion"
      ],
      "metadata": {
        "id": "mOvJ0ZvXAB5E"
      }
    },
    {
      "cell_type": "code",
      "source": [
        "for i in os.listdir(normal_folder):\n",
        "  img=os.path.join(normal_folder,i)\n",
        "  img=image_processing(img)\n",
        "  normal_img_values.append(img)\n",
        "  normal_outputs.append(0)"
      ],
      "metadata": {
        "id": "vsiNs4fe_aM-"
      },
      "execution_count": 40,
      "outputs": []
    },
    {
      "cell_type": "code",
      "source": [
        "normal_img_values[0]"
      ],
      "metadata": {
        "id": "RTcak7ma_xXo",
        "colab": {
          "base_uri": "https://localhost:8080/"
        },
        "outputId": "f01962cb-fac3-4edd-f037-9343b135c8d5"
      },
      "execution_count": 54,
      "outputs": [
        {
          "output_type": "execute_result",
          "data": {
            "text/plain": [
              "array([[[0.08235294, 0.08235294, 0.08235294],\n",
              "        [0.07843138, 0.07843138, 0.07843138],\n",
              "        [0.07843138, 0.07843138, 0.07843138],\n",
              "        ...,\n",
              "        [0.6901961 , 0.6901961 , 0.6901961 ],\n",
              "        [0.7294118 , 0.7294118 , 0.7294118 ],\n",
              "        [0.69411767, 0.69411767, 0.69411767]],\n",
              "\n",
              "       [[0.12156863, 0.12156863, 0.12156863],\n",
              "        [0.1254902 , 0.1254902 , 0.1254902 ],\n",
              "        [0.13333334, 0.13333334, 0.13333334],\n",
              "        ...,\n",
              "        [0.7254902 , 0.7254902 , 0.7254902 ],\n",
              "        [0.7137255 , 0.7137255 , 0.7137255 ],\n",
              "        [0.72156864, 0.72156864, 0.72156864]],\n",
              "\n",
              "       [[0.15686275, 0.15686275, 0.15686275],\n",
              "        [0.16862746, 0.16862746, 0.16862746],\n",
              "        [0.18039216, 0.18039216, 0.18039216],\n",
              "        ...,\n",
              "        [0.7294118 , 0.7294118 , 0.7294118 ],\n",
              "        [0.7254902 , 0.7254902 , 0.7254902 ],\n",
              "        [0.73333335, 0.73333335, 0.73333335]],\n",
              "\n",
              "       ...,\n",
              "\n",
              "       [[0.09411765, 0.09411765, 0.09411765],\n",
              "        [0.09019608, 0.09019608, 0.09019608],\n",
              "        [0.08627451, 0.08627451, 0.08627451],\n",
              "        ...,\n",
              "        [0.44705883, 0.44705883, 0.44705883],\n",
              "        [0.38039216, 0.38039216, 0.38039216],\n",
              "        [0.2784314 , 0.2784314 , 0.2784314 ]],\n",
              "\n",
              "       [[0.09411765, 0.09411765, 0.09411765],\n",
              "        [0.09019608, 0.09019608, 0.09019608],\n",
              "        [0.08627451, 0.08627451, 0.08627451],\n",
              "        ...,\n",
              "        [0.44705883, 0.44705883, 0.44705883],\n",
              "        [0.37254903, 0.37254903, 0.37254903],\n",
              "        [0.27058825, 0.27058825, 0.27058825]],\n",
              "\n",
              "       [[0.09803922, 0.09803922, 0.09803922],\n",
              "        [0.09019608, 0.09019608, 0.09019608],\n",
              "        [0.09019608, 0.09019608, 0.09019608],\n",
              "        ...,\n",
              "        [0.4392157 , 0.4392157 , 0.4392157 ],\n",
              "        [0.3647059 , 0.3647059 , 0.3647059 ],\n",
              "        [0.25882354, 0.25882354, 0.25882354]]], dtype=float32)"
            ]
          },
          "metadata": {},
          "execution_count": 54
        }
      ]
    },
    {
      "cell_type": "markdown",
      "source": [
        "creating the x,y (4-D) for train test split"
      ],
      "metadata": {
        "id": "6cZBdXemQMFy"
      }
    },
    {
      "cell_type": "code",
      "source": [
        "x=np.concatenate((np.array(covid_img_values),np.array(normal_img_values)))\n",
        "y=np.concatenate((np.array(covid_outputs),np.array(normal_outputs)))"
      ],
      "metadata": {
        "id": "o83DYyyaIz-4"
      },
      "execution_count": 42,
      "outputs": []
    },
    {
      "cell_type": "markdown",
      "source": [
        "using train test split function"
      ],
      "metadata": {
        "id": "OnPewLfyQU0m"
      }
    },
    {
      "cell_type": "code",
      "source": [
        "x_train,x_test,y_train,y_test=train_test_split(x,y,test_size=0.2,random_state=12)"
      ],
      "metadata": {
        "id": "DeF_fAnvB_lp"
      },
      "execution_count": 43,
      "outputs": []
    },
    {
      "cell_type": "markdown",
      "source": [
        "bulding model"
      ],
      "metadata": {
        "id": "n-MFSFHIQXRR"
      }
    },
    {
      "cell_type": "code",
      "source": [
        "model=Sequential()\n",
        "model.add(Conv2D(32,(3,3),activation='relu',input_shape=(256,256,3)))\n",
        "model.add(MaxPooling2D(pool_size=(2,2)))\n",
        "model.add(Conv2D(64,(3,3),activation='relu'))\n",
        "model.add(MaxPooling2D(pool_size=(2,2)))\n",
        "model.add(Flatten())\n",
        "model.add(Dense(128,activation='relu'))\n",
        "model.add(Dense(1,activation='sigmoid'))"
      ],
      "metadata": {
        "colab": {
          "base_uri": "https://localhost:8080/"
        },
        "id": "snqtVgIFC2Ha",
        "outputId": "a06424a7-cda2-4bac-8a4c-871762f0c0ee"
      },
      "execution_count": 44,
      "outputs": [
        {
          "output_type": "stream",
          "name": "stderr",
          "text": [
            "/usr/local/lib/python3.11/dist-packages/keras/src/layers/convolutional/base_conv.py:107: UserWarning: Do not pass an `input_shape`/`input_dim` argument to a layer. When using Sequential models, prefer using an `Input(shape)` object as the first layer in the model instead.\n",
            "  super().__init__(activity_regularizer=activity_regularizer, **kwargs)\n"
          ]
        }
      ]
    },
    {
      "cell_type": "code",
      "source": [
        "model.compile(optimizer='adam',loss='binary_crossentropy',metrics=['accuracy'])"
      ],
      "metadata": {
        "id": "6hmNmDhvFDgG"
      },
      "execution_count": 45,
      "outputs": []
    },
    {
      "cell_type": "code",
      "source": [
        "model.fit(x_train,y_train,epochs=15)"
      ],
      "metadata": {
        "colab": {
          "base_uri": "https://localhost:8080/"
        },
        "id": "vKjrz2u7F8P-",
        "outputId": "085a5382-0e71-4d03-9252-0568c47bde88"
      },
      "execution_count": 46,
      "outputs": [
        {
          "output_type": "stream",
          "name": "stdout",
          "text": [
            "Epoch 1/15\n",
            "\u001b[1m2/2\u001b[0m \u001b[32m━━━━━━━━━━━━━━━━━━━━\u001b[0m\u001b[37m\u001b[0m \u001b[1m12s\u001b[0m 5s/step - accuracy: 0.5417 - loss: 4.7605\n",
            "Epoch 2/15\n",
            "\u001b[1m2/2\u001b[0m \u001b[32m━━━━━━━━━━━━━━━━━━━━\u001b[0m\u001b[37m\u001b[0m \u001b[1m9s\u001b[0m 3s/step - accuracy: 0.4792 - loss: 2.0869\n",
            "Epoch 3/15\n",
            "\u001b[1m2/2\u001b[0m \u001b[32m━━━━━━━━━━━━━━━━━━━━\u001b[0m\u001b[37m\u001b[0m \u001b[1m8s\u001b[0m 3s/step - accuracy: 0.6042 - loss: 0.8942\n",
            "Epoch 4/15\n",
            "\u001b[1m2/2\u001b[0m \u001b[32m━━━━━━━━━━━━━━━━━━━━\u001b[0m\u001b[37m\u001b[0m \u001b[1m10s\u001b[0m 4s/step - accuracy: 0.4583 - loss: 2.1141\n",
            "Epoch 5/15\n",
            "\u001b[1m2/2\u001b[0m \u001b[32m━━━━━━━━━━━━━━━━━━━━\u001b[0m\u001b[37m\u001b[0m \u001b[1m9s\u001b[0m 3s/step - accuracy: 0.5833 - loss: 0.8068\n",
            "Epoch 6/15\n",
            "\u001b[1m2/2\u001b[0m \u001b[32m━━━━━━━━━━━━━━━━━━━━\u001b[0m\u001b[37m\u001b[0m \u001b[1m12s\u001b[0m 3s/step - accuracy: 0.6771 - loss: 0.7165\n",
            "Epoch 7/15\n",
            "\u001b[1m2/2\u001b[0m \u001b[32m━━━━━━━━━━━━━━━━━━━━\u001b[0m\u001b[37m\u001b[0m \u001b[1m11s\u001b[0m 5s/step - accuracy: 0.8646 - loss: 0.4925\n",
            "Epoch 8/15\n",
            "\u001b[1m2/2\u001b[0m \u001b[32m━━━━━━━━━━━━━━━━━━━━\u001b[0m\u001b[37m\u001b[0m \u001b[1m8s\u001b[0m 3s/step - accuracy: 0.8750 - loss: 0.4079\n",
            "Epoch 9/15\n",
            "\u001b[1m2/2\u001b[0m \u001b[32m━━━━━━━━━━━━━━━━━━━━\u001b[0m\u001b[37m\u001b[0m \u001b[1m11s\u001b[0m 3s/step - accuracy: 0.8229 - loss: 0.3541\n",
            "Epoch 10/15\n",
            "\u001b[1m2/2\u001b[0m \u001b[32m━━━━━━━━━━━━━━━━━━━━\u001b[0m\u001b[37m\u001b[0m \u001b[1m12s\u001b[0m 4s/step - accuracy: 0.8438 - loss: 0.3293\n",
            "Epoch 11/15\n",
            "\u001b[1m2/2\u001b[0m \u001b[32m━━━━━━━━━━━━━━━━━━━━\u001b[0m\u001b[37m\u001b[0m \u001b[1m8s\u001b[0m 3s/step - accuracy: 0.8958 - loss: 0.2554\n",
            "Epoch 12/15\n",
            "\u001b[1m2/2\u001b[0m \u001b[32m━━━━━━━━━━━━━━━━━━━━\u001b[0m\u001b[37m\u001b[0m \u001b[1m10s\u001b[0m 3s/step - accuracy: 0.9688 - loss: 0.2060\n",
            "Epoch 13/15\n",
            "\u001b[1m2/2\u001b[0m \u001b[32m━━━━━━━━━━━━━━━━━━━━\u001b[0m\u001b[37m\u001b[0m \u001b[1m13s\u001b[0m 3s/step - accuracy: 0.9688 - loss: 0.1773\n",
            "Epoch 14/15\n",
            "\u001b[1m2/2\u001b[0m \u001b[32m━━━━━━━━━━━━━━━━━━━━\u001b[0m\u001b[37m\u001b[0m \u001b[1m11s\u001b[0m 7s/step - accuracy: 0.9583 - loss: 0.1312\n",
            "Epoch 15/15\n",
            "\u001b[1m2/2\u001b[0m \u001b[32m━━━━━━━━━━━━━━━━━━━━\u001b[0m\u001b[37m\u001b[0m \u001b[1m9s\u001b[0m 3s/step - accuracy: 0.9583 - loss: 0.1529\n"
          ]
        },
        {
          "output_type": "execute_result",
          "data": {
            "text/plain": [
              "<keras.src.callbacks.history.History at 0x7c5de4e97f10>"
            ]
          },
          "metadata": {},
          "execution_count": 46
        }
      ]
    },
    {
      "cell_type": "code",
      "source": [
        "model.evaluate(x_test,y_test)"
      ],
      "metadata": {
        "colab": {
          "base_uri": "https://localhost:8080/"
        },
        "id": "6rmIJmy9MAWO",
        "outputId": "4ac22578-a5bb-4208-a240-2e755b909881"
      },
      "execution_count": 47,
      "outputs": [
        {
          "output_type": "stream",
          "name": "stdout",
          "text": [
            "\u001b[1m1/1\u001b[0m \u001b[32m━━━━━━━━━━━━━━━━━━━━\u001b[0m\u001b[37m\u001b[0m \u001b[1m1s\u001b[0m 1s/step - accuracy: 0.8750 - loss: 0.2834   \n"
          ]
        },
        {
          "output_type": "execute_result",
          "data": {
            "text/plain": [
              "[0.28339213132858276, 0.875]"
            ]
          },
          "metadata": {},
          "execution_count": 47
        }
      ]
    },
    {
      "cell_type": "markdown",
      "source": [
        "prediction function"
      ],
      "metadata": {
        "id": "y2l5Is6NQZzA"
      }
    },
    {
      "cell_type": "code",
      "source": [
        "def predict_image(img):\n",
        "  img=load_img(img,target_size=(256,256))\n",
        "  img=img_to_array(img)\n",
        "  img=img/255.0\n",
        "  img = np.expand_dims(img, axis=0)\n",
        "  prediction=model.predict(img)\n",
        "  return prediction[0][0]"
      ],
      "metadata": {
        "id": "w-YsU0cYLF5F"
      },
      "execution_count": 51,
      "outputs": []
    },
    {
      "cell_type": "code",
      "source": [
        "prediction_image=r'/content/drive/MyDrive/Images/Nor/00001497_000.png'\n",
        "result=predict_image(prediction_image)\n",
        "if(result>=0.5):\n",
        "  print(\"Covid_found\")\n",
        "else:\n",
        "  print(\"covid_not_found\")"
      ],
      "metadata": {
        "id": "1u6WCrgTGGNx",
        "colab": {
          "base_uri": "https://localhost:8080/"
        },
        "outputId": "8cabc174-7049-4e94-9029-1380277322b7"
      },
      "execution_count": 52,
      "outputs": [
        {
          "output_type": "stream",
          "name": "stdout",
          "text": [
            "\u001b[1m1/1\u001b[0m \u001b[32m━━━━━━━━━━━━━━━━━━━━\u001b[0m\u001b[37m\u001b[0m \u001b[1m0s\u001b[0m 72ms/step\n",
            "covid_not_found\n"
          ]
        }
      ]
    },
    {
      "cell_type": "code",
      "source": [
        "load_img(prediction_image,target_size=(256,256))"
      ],
      "metadata": {
        "colab": {
          "base_uri": "https://localhost:8080/",
          "height": 273
        },
        "id": "6BPVM5gvLSW2",
        "outputId": "d9f7066b-c201-4474-d2b5-a861f93faecc"
      },
      "execution_count": 56,
      "outputs": [
        {
          "output_type": "execute_result",
          "data": {
            "text/plain": [
              "<PIL.Image.Image image mode=RGB size=256x256>"
            ],
            "image/png": "[encoded data removed]",
            "image/jpeg": "[encoded data removed]"
          },
          "metadata": {},
          "execution_count": 56
        }
      ]
    },
    {
      "cell_type": "code",
      "source": [],
      "metadata": {
        "id": "F6PKIde2QEyz"
      },
      "execution_count": null,
      "outputs": []
    }
  ]
}